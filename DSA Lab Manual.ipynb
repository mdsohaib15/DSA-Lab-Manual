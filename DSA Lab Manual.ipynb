{
 "cells": [
  {
   "cell_type": "markdown",
   "metadata": {},
   "source": [
    "# LAB # 01"
   ]
  },
  {
   "cell_type": "code",
   "execution_count": 1,
   "metadata": {
    "scrolled": true
   },
   "outputs": [
    {
     "data": {
      "text/plain": [
       "'\\nTasks:1\\nWrite a program which can generate the following\\nInput a number: 10\\n10 x 1 = 10\\n10 x 2 = 20\\n10 x 3 = 30\\n10 x 4 = 40\\n10 x 5 = 50\\n10 x 6 = 60\\n10 x 7 = 70\\n10 x 8 = 80\\n10 x 9 = 90\\n10 x 10 = 100\\n'"
      ]
     },
     "execution_count": 1,
     "metadata": {},
     "output_type": "execute_result"
    }
   ],
   "source": [
    "'''\n",
    "Tasks:1\n",
    "Write a program which can generate the following\n",
    "Input a number: 10\n",
    "10 x 1 = 10\n",
    "10 x 2 = 20\n",
    "10 x 3 = 30\n",
    "10 x 4 = 40\n",
    "10 x 5 = 50\n",
    "10 x 6 = 60\n",
    "10 x 7 = 70\n",
    "10 x 8 = 80\n",
    "10 x 9 = 90\n",
    "10 x 10 = 100\n",
    "'''"
   ]
  },
  {
   "cell_type": "code",
   "execution_count": 3,
   "metadata": {},
   "outputs": [
    {
     "name": "stdout",
     "output_type": "stream",
     "text": [
      "2 * 1 = 2\n",
      "2 * 2 = 4\n",
      "2 * 3 = 6\n",
      "2 * 4 = 8\n",
      "2 * 5 = 10\n",
      "2 * 6 = 12\n",
      "2 * 7 = 14\n",
      "2 * 8 = 16\n",
      "2 * 9 = 18\n",
      "2 * 10 = 20\n"
     ]
    }
   ],
   "source": [
    "num = int(input('Input a number:'))\n",
    "for i in range(1,11):\n",
    "    result = num*i\n",
    "    print(f\"{num} * {i} = {result}\")\n",
    "    i=i+1"
   ]
  },
  {
   "cell_type": "code",
   "execution_count": 1,
   "metadata": {},
   "outputs": [
    {
     "data": {
      "text/plain": [
       "'\\n2)\\tWrite a program to prompt for a score between 0.0 and 1.0. If the score is out of range, print an error message. If the score is between 0.0 and 1.0, print a grade using the following table:\\n\\n>= 0.9 A\\n>= 0.8 B\\n>>= 0.7 C\\n>= 0.6 D < 0.6 F\\nEnter score: 0.95 A\\nEnter score: perfect Bad score\\nEnter score: 10.0\\nBad score\\nEnter score: 0.75 C\\nEnter score: 0.5\\nF\\n'"
      ]
     },
     "execution_count": 1,
     "metadata": {},
     "output_type": "execute_result"
    }
   ],
   "source": [
    "\"\"\"\n",
    "2)\tWrite a program to prompt for a score between 0.0 and 1.0. If the score is out of range, print an error message. If the score is between 0.0 and 1.0, print a grade using the following table:\n",
    "\n",
    ">= 0.9 A\n",
    ">= 0.8 B\n",
    ">>= 0.7 C\n",
    ">= 0.6 D < 0.6 F\n",
    "Enter score: 0.95 A\n",
    "Enter score: perfect Bad score\n",
    "Enter score: 10.0\n",
    "Bad score\n",
    "Enter score: 0.75 C\n",
    "Enter score: 0.5\n",
    "F\n",
    "\"\"\""
   ]
  },
  {
   "cell_type": "code",
   "execution_count": 2,
   "metadata": {},
   "outputs": [
    {
     "name": "stdin",
     "output_type": "stream",
     "text": [
      "Enter score (or type 'exit' to quit):  2\n"
     ]
    },
    {
     "name": "stdout",
     "output_type": "stream",
     "text": [
      "Bad score\n"
     ]
    },
    {
     "name": "stdin",
     "output_type": "stream",
     "text": [
      "Enter score (or type 'exit' to quit):  exit\n"
     ]
    },
    {
     "name": "stdout",
     "output_type": "stream",
     "text": [
      "B\n"
     ]
    },
    {
     "name": "stdout",
     "output_type": "stream",
     "text": [
      "Enter score (or type 'exit' to quit):  0.9\n"
     ]
    },
    {
     "name": "stdout",
     "output_type": "stream",
     "text": [
      "A\n"
     ]
    },
    {
     "name": "stdout",
     "output_type": "stream",
     "text": [
      "Enter score (or type 'exit' to quit):  exit\n"
     ]
    },
    {
     "name": "stdout",
     "output_type": "stream",
     "text": [
      "A\n"
     ]
    },
    {
     "name": "stdout",
     "output_type": "stream",
     "text": [
      "Enter score (or type 'exit' to quit):  exit\n"
     ]
    }
   ],
   "source": [
    "def get_grade(score):\n",
    "    if score < 0.0 or score > 1.0:\n",
    "        return \"Bad score\"\n",
    "    elif score >= 0.9:\n",
    "        return \"A\"\n",
    "    elif score >= 0.8:\n",
    "        return \"B\"\n",
    "    elif score >= 0.7:\n",
    "        return \"C\"\n",
    "    elif score >= 0.6:\n",
    "        return \"D\"\n",
    "    else:\n",
    "        return \"F\"\n",
    "while True:\n",
    "    score_input = input(\"Enter score (or type 'exit' to quit): \")\n",
    "    if score_input.lower() == \"exit\":\n",
    "        break\n",
    "    if score_input.lower() == \"perfect\":\n",
    "        print(\"Bad score\")\n",
    "        continue\n",
    "    try:\n",
    "        score = float(score_input)\n",
    "        print(get_grade(score))\n",
    "    except ValueError:\n",
    "        print(\"Bad score\")\n"
   ]
  },
  {
   "cell_type": "markdown",
   "metadata": {},
   "source": [
    "# Two sum- leetcode"
   ]
  },
  {
   "cell_type": "code",
   "execution_count": 5,
   "metadata": {},
   "outputs": [
    {
     "data": {
      "text/plain": [
       "'\\n3)\\tGiven an array of integers nums and an integer target, return indices of the two numbers such that they add up to target. You may assume that each input would have exactly one solution, and you may not use the same element twice. You can return the answer in any order.\\n \\nExample 1:\\nInput: nums = [2,7,11,15], target = 9\\nOutput: [0,1]\\nExplanation: Because nums[0] + nums[1] == 9, we return [0, 1].\\n\\nExample 2:\\nInput: nums = [3,2,4], target = 6\\nOutput: [1,2]\\n\\nExample 3:\\nInput: nums = [3,3], target = 6\\nOutput: [0,1]\\n'"
      ]
     },
     "execution_count": 5,
     "metadata": {},
     "output_type": "execute_result"
    }
   ],
   "source": [
    "\"\"\"\n",
    "3)\tGiven an array of integers nums and an integer target, return indices of the two numbers such that they add up to target. You may assume that each input would have exactly one solution, and you may not use the same element twice. You can return the answer in any order.\n",
    " \n",
    "Example 1:\n",
    "Input: nums = [2,7,11,15], target = 9\n",
    "Output: [0,1]\n",
    "Explanation: Because nums[0] + nums[1] == 9, we return [0, 1].\n",
    "\n",
    "Example 2:\n",
    "Input: nums = [3,2,4], target = 6\n",
    "Output: [1,2]\n",
    "\n",
    "Example 3:\n",
    "Input: nums = [3,3], target = 6\n",
    "Output: [0,1]\n",
    "\"\"\" "
   ]
  },
  {
   "cell_type": "code",
   "execution_count": 6,
   "metadata": {},
   "outputs": [
    {
     "name": "stdout",
     "output_type": "stream",
     "text": [
      "[0, 1]\n"
     ]
    }
   ],
   "source": [
    "class TwoSum:  \n",
    "    def __init__(self, list1, target):  \n",
    "        self.list1 = list1  \n",
    "        self.target = target  \n",
    "          \n",
    "    def solution(self):  \n",
    "        length = len(list1)  \n",
    "          \n",
    "        for i in range(length-1):  \n",
    "            for j in range(i+1, length):  \n",
    "                if list1[i]+list1[j] == self.target:  \n",
    "                    new_list = i, j  \n",
    "                    return list(new_list)  \n",
    "        return -1  \n",
    "  \n",
    "list1 = [2,7,11,15] \n",
    "target = 9 \n",
    "obj = TwoSum(list1, target)  \n",
    "print(obj.solution())  "
   ]
  },
  {
   "cell_type": "markdown",
   "metadata": {},
   "source": [
    "# LAB # 02"
   ]
  },
  {
   "cell_type": "code",
   "execution_count": 7,
   "metadata": {},
   "outputs": [
    {
     "data": {
      "text/plain": [
       "'\\n1)\\tExecute the above code and observe its output\\n'"
      ]
     },
     "execution_count": 7,
     "metadata": {},
     "output_type": "execute_result"
    }
   ],
   "source": [
    "'''\n",
    "1)\tExecute the above code and observe its output\n",
    "'''"
   ]
  },
  {
   "cell_type": "code",
   "execution_count": 8,
   "metadata": {},
   "outputs": [
    {
     "name": "stdout",
     "output_type": "stream",
     "text": [
      "pushed item: 1\n",
      "pushed item: 2\n",
      "pushed item: 3\n",
      "pushed item: 4\n",
      "popped item: 4\n",
      "stack after popping an element: ['1', '2', '3']\n"
     ]
    }
   ],
   "source": [
    "# creating a stack\n",
    "def create_stack():\n",
    "          stack = []\n",
    "          return stack\n",
    "\n",
    "# creating an function to check stack is empty or not:\n",
    "def check_empty(stack):\n",
    "          return len(stack) == 0\n",
    "\n",
    "# adding an items into the stack:\n",
    "def push(stack,item):\n",
    "          stack.append(item)\n",
    "          print('pushed item:',item)\n",
    "\n",
    "# removing an element from the stack:\n",
    "def pop(stack):\n",
    "          if(check_empty(stack)):\n",
    "                    return 'stack is empty'\n",
    "          else:\n",
    "                   return stack.pop()\n",
    "\n",
    "stack = create_stack() \n",
    "push(stack, str(1)) \n",
    "push(stack, str(2)) \n",
    "push(stack, str(3)) \n",
    "push(stack, str(4))\n",
    "print(\"popped item: \" + pop(stack))\n",
    "print(\"stack after popping an element: \" + str(stack))"
   ]
  },
  {
   "cell_type": "markdown",
   "metadata": {},
   "source": [
    "# valid parenthesis- leetcode"
   ]
  },
  {
   "cell_type": "code",
   "execution_count": 9,
   "metadata": {},
   "outputs": [
    {
     "data": {
      "text/plain": [
       "'\\n2)\\tGiven a string s containing just the characters \\'(\\', \\')\\', \\'{\\', \\'}\\', \\'[\\' and \\']\\', determine if the input string is valid.\\nAn input string is valid if:\\n1.\\tOpen brackets must be closed by the same type of brackets.\\n2.\\tOpen brackets must be closed in the correct order.\\n3.\\tEvery close bracket has a corresponding open bracket of the same type.\\n\\n \\nExample 1:\\nInput: s = \"()\"\\nOutput: true\\n\\nExample 2:\\nInput: s = \"()[]{}\"\\nOutput: true\\n\\nExample 3:\\nInput: s = \"(]\"\\nOutput: false\\n\\nExample 4:\\nInput: s = \"([])\"\\nOutput: true\\n'"
      ]
     },
     "execution_count": 9,
     "metadata": {},
     "output_type": "execute_result"
    }
   ],
   "source": [
    "'''\n",
    "2)\tGiven a string s containing just the characters '(', ')', '{', '}', '[' and ']', determine if the input string is valid.\n",
    "An input string is valid if:\n",
    "1.\tOpen brackets must be closed by the same type of brackets.\n",
    "2.\tOpen brackets must be closed in the correct order.\n",
    "3.\tEvery close bracket has a corresponding open bracket of the same type.\n",
    "\n",
    " \n",
    "Example 1:\n",
    "Input: s = \"()\"\n",
    "Output: true\n",
    "\n",
    "Example 2:\n",
    "Input: s = \"()[]{}\"\n",
    "Output: true\n",
    "\n",
    "Example 3:\n",
    "Input: s = \"(]\"\n",
    "Output: false\n",
    "\n",
    "Example 4:\n",
    "Input: s = \"([])\"\n",
    "Output: true\n",
    "'''"
   ]
  },
  {
   "cell_type": "code",
   "execution_count": 10,
   "metadata": {},
   "outputs": [
    {
     "name": "stdout",
     "output_type": "stream",
     "text": [
      "true\n"
     ]
    }
   ],
   "source": [
    "def ispar(s):\n",
    "    stack = []\n",
    "    for char in s:\n",
    "      \n",
    "        # Opening bracket\n",
    "        if char in '({[':\n",
    "            stack.append(char)\n",
    "            \n",
    "        # Closing Bracket    \n",
    "        elif char in ')}]':\n",
    "          \n",
    "            # closing bracket without opening\n",
    "            if not stack:\n",
    "                return False\n",
    "              \n",
    "            # Else pop an item check for matching  \n",
    "            top = stack.pop()\n",
    "            if (top == '(' and char != ')') or \\\n",
    "               (top == '{' and char != '}') or \\\n",
    "               (top == '[' and char != ']'):\n",
    "                return False\n",
    "              \n",
    "    # If an opening bracket without closing          \n",
    "    return len(stack) == 0\n",
    "\n",
    "s = '{()}[]'\n",
    "\n",
    "if ispar(s):\n",
    "    print(\"true\")\n",
    "else:\n",
    "    print(\"false\")"
   ]
  },
  {
   "cell_type": "markdown",
   "metadata": {},
   "source": [
    "# LAB 03"
   ]
  },
  {
   "cell_type": "code",
   "execution_count": 11,
   "metadata": {},
   "outputs": [
    {
     "data": {
      "text/plain": [
       "'\\n1)\\tExecute the above code and observe its output.\\n'"
      ]
     },
     "execution_count": 11,
     "metadata": {},
     "output_type": "execute_result"
    }
   ],
   "source": [
    "'''\n",
    "1)\tExecute the above code and observe its output.\n",
    "'''"
   ]
  },
  {
   "cell_type": "code",
   "execution_count": 12,
   "metadata": {},
   "outputs": [
    {
     "name": "stdout",
     "output_type": "stream",
     "text": [
      "[1, 2, 3, 4, 5]\n",
      "After removing an element\n",
      "[2, 3, 4, 5]\n"
     ]
    }
   ],
   "source": [
    "class Queue:\n",
    "          def __init__(self):\n",
    "                    self.queue = []\n",
    "          # add an element \n",
    "          def enqueue(self,item):\n",
    "                    self.queue.append(item)\n",
    "          \n",
    "          # remove an element\n",
    "          def dequeue(self):\n",
    "                    if len(self.queue)<1:\n",
    "                              return None\n",
    "                    else:\n",
    "                              return self.queue.pop(0)\n",
    "          # display the queue\n",
    "          def display(self):\n",
    "                    print(self.queue)\n",
    "\n",
    "          def size(self):\n",
    "                    return len(self.queue)\n",
    "q = Queue()\n",
    "q.enqueue(1)\n",
    "q.enqueue(2)\n",
    "q.enqueue(3)\n",
    "q.enqueue(4)\n",
    "q.enqueue(5)\n",
    "q.display()\n",
    "q.dequeue()\n",
    "print(\"After removing an element\") \n",
    "q.display()"
   ]
  },
  {
   "cell_type": "code",
   "execution_count": 13,
   "metadata": {},
   "outputs": [
    {
     "data": {
      "text/plain": [
       "'\\n2)\\tThere are n people in a line queuing to buy tickets, where the 0th person is at the front of the line and the (n - 1)th person is at the back of the line.\\nYou are given a 0-indexed integer array tickets of length n where the number of tickets that the ith person would like to buy is tickets[i]. \\nEach person takes exactly 1 second to buy a ticket. A person can only buy 1 ticket at a time and has to go back to the end of the line (which happens instantaneously) in order to buy more tickets. If a person does not have any tickets left to buy, the person will leave the line.\\nReturn the time taken for the person initially at position k (0-indexed) to finish buying tickets.\\n \\nExample 1:\\nInput: tickets = [2,3,2], k = 2\\nOutput: 6\\nExplanation:\\n•\\tThe queue starts as [2,3,2], where the kth person is underlined.\\n•\\tAfter the person at the front has bought a ticket, the queue becomes [3,2,1] at 1 second.\\n•\\tContinuing this process, the queue becomes [2,1,2] at 2 seconds.\\n•\\tContinuing this process, the queue becomes [1,2,1] at 3 seconds.\\n•\\tContinuing this process, the queue becomes [2,1] at 4 seconds. Note: the person at the front left the queue.\\n•\\tContinuing this process, the queue becomes [1,1] at 5 seconds.\\n•\\tContinuing this process, the queue becomes [1] at 6 seconds. The kth person has bought all their tickets, so return 6.\\n\\nExample 2:\\nInput: tickets = [5,1,1,1], k = 0\\nOutput: 8\\nExplanation:\\n•\\tThe queue starts as [5,1,1,1], where the kth person is underlined.\\n•\\tAfter the person at the front has bought a ticket, the queue becomes [1,1,1,4] at 1 second.\\n•\\tContinuing this process for 3 seconds, the queue becomes [4] at 4 seconds.\\n•\\tContinuing this process for 4 seconds, the queue becomes [] at 8 seconds. The kth person has bought all their tickets, so return 8.\\n'"
      ]
     },
     "execution_count": 13,
     "metadata": {},
     "output_type": "execute_result"
    }
   ],
   "source": [
    "'''\n",
    "2)\tThere are n people in a line queuing to buy tickets, where the 0th person is at the front of the line and the (n - 1)th person is at the back of the line.\n",
    "You are given a 0-indexed integer array tickets of length n where the number of tickets that the ith person would like to buy is tickets[i]. \n",
    "Each person takes exactly 1 second to buy a ticket. A person can only buy 1 ticket at a time and has to go back to the end of the line (which happens instantaneously) in order to buy more tickets. If a person does not have any tickets left to buy, the person will leave the line.\n",
    "Return the time taken for the person initially at position k (0-indexed) to finish buying tickets.\n",
    " \n",
    "Example 1:\n",
    "Input: tickets = [2,3,2], k = 2\n",
    "Output: 6\n",
    "Explanation:\n",
    "•\tThe queue starts as [2,3,2], where the kth person is underlined.\n",
    "•\tAfter the person at the front has bought a ticket, the queue becomes [3,2,1] at 1 second.\n",
    "•\tContinuing this process, the queue becomes [2,1,2] at 2 seconds.\n",
    "•\tContinuing this process, the queue becomes [1,2,1] at 3 seconds.\n",
    "•\tContinuing this process, the queue becomes [2,1] at 4 seconds. Note: the person at the front left the queue.\n",
    "•\tContinuing this process, the queue becomes [1,1] at 5 seconds.\n",
    "•\tContinuing this process, the queue becomes [1] at 6 seconds. The kth person has bought all their tickets, so return 6.\n",
    "\n",
    "Example 2:\n",
    "Input: tickets = [5,1,1,1], k = 0\n",
    "Output: 8\n",
    "Explanation:\n",
    "•\tThe queue starts as [5,1,1,1], where the kth person is underlined.\n",
    "•\tAfter the person at the front has bought a ticket, the queue becomes [1,1,1,4] at 1 second.\n",
    "•\tContinuing this process for 3 seconds, the queue becomes [4] at 4 seconds.\n",
    "•\tContinuing this process for 4 seconds, the queue becomes [] at 8 seconds. The kth person has bought all their tickets, so return 8.\n",
    "'''"
   ]
  },
  {
   "cell_type": "code",
   "execution_count": 14,
   "metadata": {},
   "outputs": [
    {
     "name": "stdout",
     "output_type": "stream",
     "text": [
      "6\n"
     ]
    }
   ],
   "source": [
    "from typing import List\n",
    "\n",
    "class Solution:\n",
    "    def timeRequiredToBuy(self, tickets: List[int], k: int) -> int:\n",
    "        # Initialize the total time required to 0\n",
    "        total_time = 0\n",
    "      \n",
    "        # Iterate over the ticket queue to simulate the time passing\n",
    "        for index, tickets_at_this_position in enumerate(tickets):\n",
    "            # If the current position is before or at the target position k\n",
    "            if index <= k:\n",
    "                # Add the minimum of the target tickets and tickets at the current position\n",
    "                # It ensures we do not count the extra tickets the target person doesn't need\n",
    "                total_time += min(tickets[k], tickets_at_this_position)\n",
    "            else:\n",
    "                # After the target person has bought their tickets, they will not buy more \n",
    "                # Thus, for the people after the target, we consider one less ticket for the target\n",
    "                # Person at position k would have already bought their ticket when turn comes to later positions\n",
    "                total_time += min(tickets[k] - 1, tickets_at_this_position)\n",
    "      \n",
    "        # Return the calculated total time\n",
    "        return total_time\n",
    "\n",
    "# Example usage:\n",
    "sol = Solution()\n",
    "print(sol.timeRequiredToBuy([2, 3, 2], 2))  # This would output 6, the total time to buy tickets"
   ]
  },
  {
   "cell_type": "markdown",
   "metadata": {},
   "source": [
    "# LAB # 04"
   ]
  },
  {
   "cell_type": "code",
   "execution_count": 15,
   "metadata": {},
   "outputs": [
    {
     "data": {
      "text/plain": [
       "'\\nTasks: 1)\\tImplement LinkedList Data Structure in Python.\\n'"
      ]
     },
     "execution_count": 15,
     "metadata": {},
     "output_type": "execute_result"
    }
   ],
   "source": [
    "'''\n",
    "Tasks: 1)\tImplement LinkedList Data Structure in Python.\n",
    "'''"
   ]
  },
  {
   "cell_type": "code",
   "execution_count": 16,
   "metadata": {},
   "outputs": [
    {
     "name": "stdout",
     "output_type": "stream",
     "text": [
      "1 2 3 "
     ]
    }
   ],
   "source": [
    "class Node: # Creating a node\n",
    "    def __init__(self, item):\n",
    "        self.item = item \n",
    "        self.next = None\n",
    "        \n",
    "class LinkedList:\n",
    "    def __init__(self):\n",
    "        self.head = None\n",
    "        \n",
    "linked_list = LinkedList()\n",
    "\n",
    "# Assign item values \n",
    "linked_list.head = Node(1) \n",
    "second = Node(2) \n",
    "third = Node(3)\n",
    "# Connect nodes\n",
    "linked_list.head.next = second \n",
    "second.next = third\n",
    "# Print the linked list item \n",
    "while linked_list.head != None:\n",
    "    print(linked_list.head.item, end=\" \") \n",
    "    linked_list.head = linked_list.head.next\n"
   ]
  },
  {
   "cell_type": "code",
   "execution_count": 17,
   "metadata": {},
   "outputs": [
    {
     "data": {
      "text/plain": [
       "'\\n2)\\tInsert a node at Head, and End of the LinkedList\\n'"
      ]
     },
     "execution_count": 17,
     "metadata": {},
     "output_type": "execute_result"
    }
   ],
   "source": [
    "'''\n",
    "2)\tInsert a node at Head, and End of the LinkedList\n",
    "'''"
   ]
  },
  {
   "cell_type": "code",
   "execution_count": 18,
   "metadata": {},
   "outputs": [
    {
     "name": "stdout",
     "output_type": "stream",
     "text": [
      "20\n",
      "10\n",
      "30\n",
      "40\n"
     ]
    }
   ],
   "source": [
    "# Linked List - Python\n",
    "class Node:\n",
    "    def __init__(self,data):\n",
    "        self.data = data\n",
    "        self.next = None\n",
    "\n",
    "class LinkedList:\n",
    "    def __init__(self):\n",
    "        self.head = None\n",
    "    \n",
    "    def insertHead(self,newNode):\n",
    "        temporaryNode = self.head\n",
    "        self.head = newNode\n",
    "        self.head.next = temporaryNode\n",
    "        del temporaryNode\n",
    "    \n",
    "    def insertAt(self,newNode,position):\n",
    "        if position < 0 or position > self.listLength():\n",
    "            print(\"Invalid Position\")\n",
    "            return\n",
    "        if position == 0:\n",
    "            self.insertHead(newNode)\n",
    "            previousNode = None\n",
    "            return\n",
    "        currentNode = self.head\n",
    "        currentPosition = 0    \n",
    "        while True:\n",
    "            if currentPosition == position:\n",
    "                previousNode.next = newNode\n",
    "                newNode.next = currentNode\n",
    "                break\n",
    "            previousNode = currentNode\n",
    "            currentNode = currentNode.next\n",
    "            currentPosition += 1\n",
    "        \n",
    "    def insertEnd(self,newNode):\n",
    "        if self.head is None:\n",
    "            self.head = newNode\n",
    "        else:\n",
    "            lastNode = self.head\n",
    "            while True:\n",
    "                if lastNode.next is None:\n",
    "                    break\n",
    "                lastNode = lastNode.next\n",
    "            lastNode.next = newNode\n",
    "    \n",
    "    def listLength(self):\n",
    "        currentNode = self.head\n",
    "        length = 0\n",
    "        while currentNode is not None:\n",
    "            length += 1\n",
    "            currentNode = currentNode.next\n",
    "        return length\n",
    "    \n",
    "    def printList(self):\n",
    "        if self.head is None:\n",
    "            print(\"List is empty\")\n",
    "            return\n",
    "        currentNode = self.head\n",
    "        while True:\n",
    "            if currentNode is None:\n",
    "                break\n",
    "            print(currentNode.data)\n",
    "            currentNode = currentNode.next\n",
    "            \n",
    "firstNode = Node(10)\n",
    "secondNode = Node(20)\n",
    "thirdNode = Node(30)\n",
    "fourthNode = Node(40)\n",
    "\n",
    "linkedList =LinkedList()\n",
    "\n",
    "# insert at head\n",
    "linkedList.insertHead(firstNode)\n",
    "linkedList.insertHead(secondNode)\n",
    "# insert at end\n",
    "linkedList.insertEnd(thirdNode)\n",
    "linkedList.insertEnd(fourthNode)\n",
    "linkedList.printList()"
   ]
  },
  {
   "cell_type": "code",
   "execution_count": 19,
   "metadata": {},
   "outputs": [
    {
     "data": {
      "text/plain": [
       "'\\n3)\\tInsert a new node in between two nodes passing the index where the new node is to be inserted.\\n'"
      ]
     },
     "execution_count": 19,
     "metadata": {},
     "output_type": "execute_result"
    }
   ],
   "source": [
    "'''\n",
    "3)\tInsert a new node in between two nodes passing the index where the new node is to be inserted.\n",
    "'''"
   ]
  },
  {
   "cell_type": "code",
   "execution_count": 20,
   "metadata": {},
   "outputs": [
    {
     "name": "stdout",
     "output_type": "stream",
     "text": [
      "10\n",
      "20\n",
      "30\n",
      "40\n"
     ]
    }
   ],
   "source": [
    "# Linked List - Python\n",
    "class Node:\n",
    "    def __init__(self,data):\n",
    "        self.data = data\n",
    "        self.next = None\n",
    "\n",
    "class LinkedList:\n",
    "    def __init__(self):\n",
    "        self.head = None\n",
    "    \n",
    "    def insertHead(self,newNode):\n",
    "        temporaryNode = self.head\n",
    "        self.head = newNode\n",
    "        self.head.next = temporaryNode\n",
    "        del temporaryNode\n",
    "    \n",
    "    def insertAt(self,newNode,position):\n",
    "        if position < 0 or position > self.listLength():\n",
    "            print(\"Invalid Position\")\n",
    "            return\n",
    "        if position == 0:\n",
    "            self.insertHead(newNode)\n",
    "            previousNode = None\n",
    "            return\n",
    "        currentNode = self.head\n",
    "        currentPosition = 0    \n",
    "        while True:\n",
    "            if currentPosition == position:\n",
    "                previousNode.next = newNode\n",
    "                newNode.next = currentNode\n",
    "                break\n",
    "            previousNode = currentNode\n",
    "            currentNode = currentNode.next\n",
    "            currentPosition += 1\n",
    "        \n",
    "    def insertEnd(self,newNode):\n",
    "        if self.head is None:\n",
    "            self.head = newNode\n",
    "        else:\n",
    "            lastNode = self.head\n",
    "            while True:\n",
    "                if lastNode.next is None:\n",
    "                    break\n",
    "                lastNode = lastNode.next\n",
    "            lastNode.next = newNode\n",
    "    \n",
    "    def listLength(self):\n",
    "        currentNode = self.head\n",
    "        length = 0\n",
    "        while currentNode is not None:\n",
    "            length += 1\n",
    "            currentNode = currentNode.next\n",
    "        return length\n",
    "    \n",
    "    def printList(self):\n",
    "        if self.head is None:\n",
    "            print(\"List is empty\")\n",
    "            return\n",
    "        currentNode = self.head\n",
    "        while True:\n",
    "            if currentNode is None:\n",
    "                break\n",
    "            print(currentNode.data)\n",
    "            currentNode = currentNode.next\n",
    "            \n",
    "firstNode = Node(10)\n",
    "secondNode = Node(20)\n",
    "thirdNode = Node(30)\n",
    "fourthNode = Node(40)\n",
    "\n",
    "linkedList =LinkedList()\n",
    "\n",
    "# insert at end\n",
    "linkedList.insertAt(firstNode,0)\n",
    "linkedList.insertAt(secondNode,1)\n",
    "# insert at end\n",
    "linkedList.insertEnd(thirdNode)\n",
    "linkedList.insertEnd(fourthNode)\n",
    "linkedList.printList()"
   ]
  },
  {
   "cell_type": "markdown",
   "metadata": {},
   "source": [
    "# LAB 05"
   ]
  },
  {
   "cell_type": "code",
   "execution_count": 21,
   "metadata": {},
   "outputs": [
    {
     "data": {
      "text/plain": [
       "' Tasks:\\n1)\\tImplement Deletion of a node from LinkedList using the three ways explained in python.\\n'"
      ]
     },
     "execution_count": 21,
     "metadata": {},
     "output_type": "execute_result"
    }
   ],
   "source": [
    "''' Tasks:\n",
    "1)\tImplement Deletion of a node from LinkedList using the three ways explained in python.\n",
    "'''"
   ]
  },
  {
   "cell_type": "code",
   "execution_count": 22,
   "metadata": {},
   "outputs": [
    {
     "name": "stdout",
     "output_type": "stream",
     "text": [
      "Original List:\n",
      "10\n",
      "30\n",
      "40\n",
      "\n",
      "List after deleting head node:\n",
      "30\n",
      "40\n",
      "\n",
      "List after deleting node with value 30:\n",
      "40\n",
      "Invalid Position\n",
      "\n",
      "List after deleting node at position 1:\n",
      "40\n"
     ]
    }
   ],
   "source": [
    "class Node:\n",
    "    def __init__(self, data):\n",
    "        self.data = data\n",
    "        self.next = None\n",
    "\n",
    "class LinkedList:\n",
    "    def __init__(self):\n",
    "        self.head = None\n",
    "    \n",
    "    def insertHead(self, newNode):\n",
    "        temporaryNode = self.head\n",
    "        self.head = newNode\n",
    "        self.head.next = temporaryNode\n",
    "        del temporaryNode\n",
    "    \n",
    "    def insertAt(self, newNode, position):\n",
    "        if position < 0 or position > self.listLength():\n",
    "            print(\"Invalid Position\")\n",
    "            return\n",
    "        if position == 0:\n",
    "            self.insertHead(newNode)\n",
    "            return\n",
    "        currentNode = self.head\n",
    "        currentPosition = 0    \n",
    "        while currentNode is not None:\n",
    "            if currentPosition == position:\n",
    "                previousNode.next = newNode\n",
    "                newNode.next = currentNode\n",
    "                return\n",
    "            previousNode = currentNode\n",
    "            currentNode = currentNode.next\n",
    "            currentPosition += 1\n",
    "        \n",
    "    def insertEnd(self, newNode):\n",
    "        if self.head is None:\n",
    "            self.head = newNode\n",
    "        else:\n",
    "            lastNode = self.head\n",
    "            while lastNode.next is not None:\n",
    "                lastNode = lastNode.next\n",
    "            lastNode.next = newNode\n",
    "    \n",
    "    def deleteHead(self):\n",
    "        if self.head is None:\n",
    "            print(\"List is empty\")\n",
    "            return\n",
    "        self.head = self.head.next  # Move head to the next node\n",
    "    \n",
    "    def deleteNode(self, key):\n",
    "        # Case 1: Deleting the head node\n",
    "        if self.head is None:\n",
    "            print(\"List is empty\")\n",
    "            return\n",
    "        if self.head.data == key:\n",
    "            self.head = self.head.next\n",
    "            return\n",
    "\n",
    "        # Case 2: Deleting a node from the middle or end\n",
    "        currentNode = self.head\n",
    "        while currentNode is not None:\n",
    "            if currentNode.next and currentNode.next.data == key:\n",
    "                currentNode.next = currentNode.next.next\n",
    "                return\n",
    "            currentNode = currentNode.next\n",
    "        \n",
    "        print(\"Node with value\", key, \"not found.\")\n",
    "    \n",
    "    def deleteAt(self, position):\n",
    "        if position < 0 or position >= self.listLength():\n",
    "            print(\"Invalid Position\")\n",
    "            return\n",
    "        \n",
    "        # Case 1: Delete at position 0 (head)\n",
    "        if position == 0:\n",
    "            self.deleteHead()\n",
    "            return\n",
    "        \n",
    "        currentNode = self.head\n",
    "        currentPosition = 0\n",
    "        while currentNode is not None:\n",
    "            if currentPosition == position - 1:\n",
    "                currentNode.next = currentNode.next.next  # Skip the node to delete\n",
    "                return\n",
    "            currentNode = currentNode.next\n",
    "            currentPosition += 1\n",
    "        \n",
    "    def listLength(self):\n",
    "        currentNode = self.head\n",
    "        length = 0\n",
    "        while currentNode is not None:\n",
    "            length += 1\n",
    "            currentNode = currentNode.next\n",
    "        return length\n",
    "    \n",
    "    def printList(self):\n",
    "        if self.head is None:\n",
    "            print(\"List is empty\")\n",
    "            return\n",
    "        currentNode = self.head\n",
    "        while currentNode is not None:\n",
    "            print(currentNode.data)\n",
    "            currentNode = currentNode.next\n",
    "\n",
    "\n",
    "# Example usage:\n",
    "firstNode = Node(10)\n",
    "secondNode = Node(20)\n",
    "thirdNode = Node(30)\n",
    "fourthNode = Node(40)\n",
    "\n",
    "linkedList = LinkedList()\n",
    "\n",
    "# Insert nodes\n",
    "linkedList.insertAt(firstNode, 0)   # Insert first node at the head\n",
    "linkedList.insertAt(secondNode, 1)  # Insert second node at position 1\n",
    "linkedList.insertEnd(thirdNode)     # Insert third node at the end\n",
    "linkedList.insertEnd(fourthNode)    # Insert fourth node at the end\n",
    "\n",
    "print(\"Original List:\")\n",
    "linkedList.printList()\n",
    "\n",
    "# Deleting the head node\n",
    "linkedList.deleteHead()\n",
    "print(\"\\nList after deleting head node:\")\n",
    "linkedList.printList()\n",
    "\n",
    "# Deleting a specific node by value\n",
    "linkedList.deleteNode(30)\n",
    "print(\"\\nList after deleting node with value 30:\")\n",
    "linkedList.printList()\n",
    "\n",
    "# Deleting node at a specific position\n",
    "linkedList.deleteAt(1)  # Deleting the second node (value 40)\n",
    "print(\"\\nList after deleting node at position 1:\")\n",
    "linkedList.printList()\n"
   ]
  },
  {
   "cell_type": "markdown",
   "metadata": {},
   "source": [
    "# 21. Merge Two Sorted Lists--leetcode"
   ]
  },
  {
   "attachments": {
    "d88b7ed0-a161-417a-995d-443452fb53d4.png": {
     "image/png": "[encoded data removed]"
    }
   },
   "cell_type": "markdown",
   "metadata": {},
   "source": [
    "2)\tYou are given the heads of two sorted linked lists list1 and list2.\n",
    "Merge the two lists into one sorted list. The list should be made by splicing together the nodes of the first two lists.\n",
    "Return the head of the merged linked list.\n",
    " \n",
    "Example 1:\n",
    "\n",
    "\n",
    " ![image.png](attachment:d88b7ed0-a161-417a-995d-443452fb53d4.png)\n",
    "\n",
    " \n",
    "Input: list1 = [1,2,4], list2 = [1,3,4]\n",
    "Output: [1,1,2,3,4,4]\n",
    "\n",
    "Example 2:\n",
    "Input: list1 = [], list2 = []\n",
    "Output: []\n",
    "\n",
    "Example 3:\n",
    "Input: list1 = [], list2 = [0]\n",
    "Output: [0]\n",
    "\n",
    " "
   ]
  },
  {
   "cell_type": "code",
   "execution_count": 23,
   "metadata": {},
   "outputs": [
    {
     "name": "stdout",
     "output_type": "stream",
     "text": [
      "[1, 1, 2, 3, 4, 4]\n",
      "[]\n",
      "[0]\n"
     ]
    }
   ],
   "source": [
    "class ListNode:\n",
    "    def __init__(self, val=0, next=None):\n",
    "        self.val = val\n",
    "        self.next = next\n",
    "\n",
    "class Solution:\n",
    "    def mergeTwoLists(self, list1, list2):\n",
    "        if list1 is None or list2 is None:\n",
    "            return list1 or list2\n",
    "        if list1.val <= list2.val:\n",
    "            list1.next = self.mergeTwoLists(list1.next, list2)\n",
    "            return list1\n",
    "        else:\n",
    "            list2.next = self.mergeTwoLists(list1, list2.next)\n",
    "            return list2\n",
    "\n",
    "# Helper function to convert a Python list into a linked list\n",
    "def list_to_linked_list(arr):\n",
    "    if not arr:\n",
    "        return None\n",
    "    head = ListNode(arr[0])\n",
    "    current = head\n",
    "    for val in arr[1:]:\n",
    "        current.next = ListNode(val)\n",
    "        current = current.next\n",
    "    return head\n",
    "\n",
    "# Helper function to convert a linked list back to a Python list\n",
    "def linked_list_to_list(head):\n",
    "    result = []\n",
    "    while head:\n",
    "        result.append(head.val)\n",
    "        head = head.next\n",
    "    return result\n",
    "\n",
    "# Test cases\n",
    "test_cases = [\n",
    "    ([1, 2, 4], [1, 3, 4]),  # Expected Output: [1,1,2,3,4,4]\n",
    "    ([], []),                 # Expected Output: []\n",
    "    ([], [0])                 # Expected Output: [0]\n",
    "]\n",
    "\n",
    "# Running the test cases\n",
    "solution = Solution()\n",
    "for list1, list2 in test_cases:\n",
    "    l1 = list_to_linked_list(list1)\n",
    "    l2 = list_to_linked_list(list2)\n",
    "    merged_head = solution.mergeTwoLists(l1, l2)\n",
    "    print(linked_list_to_list(merged_head))"
   ]
  },
  {
   "cell_type": "markdown",
   "metadata": {},
   "source": [
    "# LAB 6"
   ]
  },
  {
   "cell_type": "code",
   "execution_count": 24,
   "metadata": {},
   "outputs": [
    {
     "data": {
      "text/plain": [
       "' Tasks:\\n1)\\tImplement python code for factorial of a number.\\n'"
      ]
     },
     "execution_count": 24,
     "metadata": {},
     "output_type": "execute_result"
    }
   ],
   "source": [
    "''' Tasks:\n",
    "1)\tImplement python code for factorial of a number.\n",
    "'''"
   ]
  },
  {
   "cell_type": "code",
   "execution_count": 25,
   "metadata": {},
   "outputs": [
    {
     "name": "stdout",
     "output_type": "stream",
     "text": [
      "120\n"
     ]
    }
   ],
   "source": [
    "# Python also accepts function recursion, which means a defined function can call itself.\n",
    "def factorial(n):\n",
    "    if(n==0 or n==1):\n",
    "        return 1\n",
    "    else:\n",
    "        return n * factorial(n-1) #==> called the factorial(n-1) function inside factorial(n)\n",
    "\n",
    "print(factorial(5))\n",
    "# it go inside 'else'.\n",
    "# It will ne told to calculate 5 * factorial(n==4) so,\n",
    "# 5 * factorial(4) \n",
    "# 5 * 4 * factorial(3) \n",
    "# 5 * 4 * 3 * factorial(2) \n",
    "# 5 * 4 * 3 * 2 * factorial(1) -> this is n==1 it go inside 'if' & print 1\n",
    "# 5 * 4 * 3 * 2 * 1"
   ]
  },
  {
   "cell_type": "code",
   "execution_count": 26,
   "metadata": {},
   "outputs": [
    {
     "data": {
      "text/plain": [
       "' \\n2)\\tGiven an integer n, return true if it is a power of two. Otherwise, return false. An integer n is a power of two, if there exists an integer x such that n == 2x.\\n \\nExample 1:\\nInput: n = 1\\nOutput: true\\nExplanation: 20 = 1\\n\\nExample 2:\\nInput: n = 16\\nOutput: true\\nExplanation: 24 = 16\\n\\nExample 3:\\nInput: n = 3\\nOutput: false\\n'"
      ]
     },
     "execution_count": 26,
     "metadata": {},
     "output_type": "execute_result"
    }
   ],
   "source": [
    "''' \n",
    "2)\tGiven an integer n, return true if it is a power of two. Otherwise, return false. An integer n is a power of two, if there exists an integer x such that n == 2x.\n",
    " \n",
    "Example 1:\n",
    "Input: n = 1\n",
    "Output: true\n",
    "Explanation: 20 = 1\n",
    "\n",
    "Example 2:\n",
    "Input: n = 16\n",
    "Output: true\n",
    "Explanation: 24 = 16\n",
    "\n",
    "Example 3:\n",
    "Input: n = 3\n",
    "Output: false\n",
    "'''"
   ]
  },
  {
   "cell_type": "code",
   "execution_count": 27,
   "metadata": {},
   "outputs": [
    {
     "data": {
      "text/plain": [
       "False"
      ]
     },
     "execution_count": 27,
     "metadata": {},
     "output_type": "execute_result"
    }
   ],
   "source": [
    "def ispowerofTwo(n): \n",
    "    if (n == 0): \n",
    "        return False\n",
    "    while (n != 1): \n",
    "            if (n % 2 != 0): \n",
    "                return False\n",
    "            n = n // 2\n",
    "              \n",
    "    return True\n",
    "\n",
    "ispowerofTwo(3)"
   ]
  },
  {
   "cell_type": "code",
   "execution_count": 28,
   "metadata": {},
   "outputs": [
    {
     "data": {
      "text/plain": [
       "'\\n3)\\tGiven an integer n, return true if it is a power of three. Otherwise, return false. An integer n is a power of three, if there exists an integer x such that n == 3x.\\n \\nExample 1:\\nInput: n = 27\\nOutput: true\\nExplanation: 27 = 33\\n\\nExample 2:\\nInput: n = 0\\nOutput: false\\nExplanation: There is no x where 3x = 0.\\n\\nExample 3:\\nInput: n = -1\\nOutput: false\\nExplanation: There is no x where 3x = (-1).\\n'"
      ]
     },
     "execution_count": 28,
     "metadata": {},
     "output_type": "execute_result"
    }
   ],
   "source": [
    "'''\n",
    "3)\tGiven an integer n, return true if it is a power of three. Otherwise, return false. An integer n is a power of three, if there exists an integer x such that n == 3x.\n",
    " \n",
    "Example 1:\n",
    "Input: n = 27\n",
    "Output: true\n",
    "Explanation: 27 = 33\n",
    "\n",
    "Example 2:\n",
    "Input: n = 0\n",
    "Output: false\n",
    "Explanation: There is no x where 3x = 0.\n",
    "\n",
    "Example 3:\n",
    "Input: n = -1\n",
    "Output: false\n",
    "Explanation: There is no x where 3x = (-1).\n",
    "'''"
   ]
  },
  {
   "cell_type": "code",
   "execution_count": 29,
   "metadata": {},
   "outputs": [
    {
     "data": {
      "text/plain": [
       "True"
      ]
     },
     "execution_count": 29,
     "metadata": {},
     "output_type": "execute_result"
    }
   ],
   "source": [
    "def isPowerofThree(n):\n",
    "    if n <= 0:\n",
    "        return False\n",
    "    while n % 3 == 0:\n",
    "        n /= 3\n",
    "    return n == 1\n",
    "isPowerofThree(3)"
   ]
  },
  {
   "cell_type": "code",
   "execution_count": 30,
   "metadata": {},
   "outputs": [
    {
     "data": {
      "text/plain": [
       "'\\n4)\\tGiven an integer n, return true if it is a power of four. Otherwise, return false. An integer n is a power of four, if there exists an integer x such that n == 4x.\\n \\nExample 1:\\nInput: n = 16\\nOutput: true\\n\\nExample 2:\\nInput: n = 5\\nOutput: false\\n\\nExample 3:\\nInput: n = 1\\nOutput: true\\n'"
      ]
     },
     "execution_count": 30,
     "metadata": {},
     "output_type": "execute_result"
    }
   ],
   "source": [
    "'''\n",
    "4)\tGiven an integer n, return true if it is a power of four. Otherwise, return false. An integer n is a power of four, if there exists an integer x such that n == 4x.\n",
    " \n",
    "Example 1:\n",
    "Input: n = 16\n",
    "Output: true\n",
    "\n",
    "Example 2:\n",
    "Input: n = 5\n",
    "Output: false\n",
    "\n",
    "Example 3:\n",
    "Input: n = 1\n",
    "Output: true\n",
    "'''"
   ]
  },
  {
   "cell_type": "code",
   "execution_count": 31,
   "metadata": {},
   "outputs": [
    {
     "data": {
      "text/plain": [
       "True"
      ]
     },
     "execution_count": 31,
     "metadata": {},
     "output_type": "execute_result"
    }
   ],
   "source": [
    "def isPowerOfFour(n):\n",
    "    # Check for non-positive numbers\n",
    "    if n <= 0:\n",
    "        return False\n",
    "    # Continuously divide by 4 until n is no longer divisible\n",
    "    while n % 4 == 0:\n",
    "        n /= 4\n",
    "    # If n is 1, it's a power of four\n",
    "    return n == 1\n",
    "isPowerOfFour(4)"
   ]
  },
  {
   "cell_type": "markdown",
   "metadata": {},
   "source": [
    "# LAB 07"
   ]
  },
  {
   "cell_type": "code",
   "execution_count": 32,
   "metadata": {},
   "outputs": [
    {
     "data": {
      "text/plain": [
       "'\\n1)\\tDevelop Python programs for Bubble Sort, Selection Sort, and Insertion Sort.\\n'"
      ]
     },
     "execution_count": 32,
     "metadata": {},
     "output_type": "execute_result"
    }
   ],
   "source": [
    "'''\n",
    "1)\tDevelop Python programs for Bubble Sort, Selection Sort, and Insertion Sort.\n",
    "'''"
   ]
  },
  {
   "cell_type": "markdown",
   "metadata": {},
   "source": [
    "# 1.Bubble sort "
   ]
  },
  {
   "cell_type": "code",
   "execution_count": 33,
   "metadata": {},
   "outputs": [
    {
     "name": "stdout",
     "output_type": "stream",
     "text": [
      "sorted array in Ascending order:\n",
      "[1, 2, 3, 4, 5]\n"
     ]
    }
   ],
   "source": [
    "def bubblesort(array):\n",
    "          n = len(array)\n",
    "          for i in range(n-1):\n",
    "                    swapped = False\n",
    "                    for j in range(n-1- i):\n",
    "                              if array[j] > array[j+1]:\n",
    "                                        array[j],array[j+1]=array[j+1],array[j]\n",
    "                    swapped = True\n",
    "          if (not swapped):\n",
    "                    return\n",
    "\n",
    "array = [5,4,3,2,1]\n",
    "bubblesort(array)\n",
    "print('sorted array in Ascending order:')\n",
    "print(array)"
   ]
  },
  {
   "cell_type": "markdown",
   "metadata": {},
   "source": [
    "# 2. Selection sort "
   ]
  },
  {
   "cell_type": "code",
   "execution_count": 34,
   "metadata": {},
   "outputs": [
    {
     "name": "stdout",
     "output_type": "stream",
     "text": [
      "The sorted array is:  [3, 6, 9, 21, 33]\n"
     ]
    }
   ],
   "source": [
    "\n",
    "def selection_sort(array):  \n",
    "    length = len(array)  \n",
    "      \n",
    "    for i in range(length-1):  \n",
    "        minIndex = i  \n",
    "          \n",
    "        for j in range(i+1, length):  \n",
    "            if array[j]<array[minIndex]:  \n",
    "                minIndex = j  \n",
    "                  \n",
    "        array[i], array[minIndex] = array[minIndex], array[i]  \n",
    "          \n",
    "          \n",
    "    return array      \n",
    "array = [21,6,9,33,3]  \n",
    "  \n",
    "print(\"The sorted array is: \", selection_sort(array)) "
   ]
  },
  {
   "cell_type": "markdown",
   "metadata": {},
   "source": [
    "# 3.Insertion sort "
   ]
  },
  {
   "cell_type": "code",
   "execution_count": 35,
   "metadata": {},
   "outputs": [
    {
     "name": "stdout",
     "output_type": "stream",
     "text": [
      "Sorted Array in Ascending Order:\n",
      "[1, 3, 4, 5, 9]\n"
     ]
    }
   ],
   "source": [
    "def insertionSort(array):\n",
    "\n",
    "    for step in range(1, len(array)):\n",
    "        key = array[step]\n",
    "        j = step - 1\n",
    "        \n",
    "        # Compare key with each element on the left of it until an element smaller than it is found\n",
    "        # For descending order, change key<array[j] to key>array[j].        \n",
    "        while j >= 0 and key < array[j]:\n",
    "            array[j + 1] = array[j]\n",
    "            j = j - 1\n",
    "        \n",
    "        # Place key at after the element just smaller than it.\n",
    "        array[j + 1] = key\n",
    "\n",
    "\n",
    "data = [9, 5, 1, 4, 3]\n",
    "insertionSort(data)\n",
    "print('Sorted Array in Ascending Order:')\n",
    "print(data)"
   ]
  },
  {
   "cell_type": "markdown",
   "metadata": {},
   "source": [
    "# Contain duplicates -- leetcode question "
   ]
  },
  {
   "cell_type": "code",
   "execution_count": 36,
   "metadata": {},
   "outputs": [
    {
     "data": {
      "text/plain": [
       "'\\n2)\\tGiven an integer array nums, return true if any value appears at least twice in the array, and return false if every element is distinct.\\n Example 1:\\nInput: nums = [1,2,3,1]\\nOutput: true\\nExplanation: The element 1 occurs at the indices 0 and 3.\\n\\nExample 2:\\nInput: nums = [1,2,3,4]\\nOutput: false\\nExplanation: All elements are distinct.\\n\\nExample 3:\\nInput: nums = [1,1,1,3,3,4,3,2,4,2]\\nOutput: true\\n'"
      ]
     },
     "execution_count": 36,
     "metadata": {},
     "output_type": "execute_result"
    }
   ],
   "source": [
    "'''\n",
    "2)\tGiven an integer array nums, return true if any value appears at least twice in the array, and return false if every element is distinct.\n",
    " Example 1:\n",
    "Input: nums = [1,2,3,1]\n",
    "Output: true\n",
    "Explanation: The element 1 occurs at the indices 0 and 3.\n",
    "\n",
    "Example 2:\n",
    "Input: nums = [1,2,3,4]\n",
    "Output: false\n",
    "Explanation: All elements are distinct.\n",
    "\n",
    "Example 3:\n",
    "Input: nums = [1,1,1,3,3,4,3,2,4,2]\n",
    "Output: true\n",
    "'''"
   ]
  },
  {
   "cell_type": "code",
   "execution_count": 37,
   "metadata": {},
   "outputs": [
    {
     "data": {
      "text/plain": [
       "False"
      ]
     },
     "execution_count": 37,
     "metadata": {},
     "output_type": "execute_result"
    }
   ],
   "source": [
    "def containsDuplicate(nums):\n",
    "    # Create an empty set to store unique elements\n",
    "    unique_set = set()\n",
    "\n",
    "    # Iterate through the array\n",
    "    for num in nums:\n",
    "        # If the element is already in the set, it's a duplicate\n",
    "        if num in unique_set:\n",
    "            return True\n",
    "        # Otherwise, add the element to the set\n",
    "        unique_set.add(num)\n",
    "\n",
    "    # If the loop completes without returning, there are no duplicates\n",
    "    return False\n",
    "\n",
    "containsDuplicate([1,2,22,4])"
   ]
  },
  {
   "cell_type": "markdown",
   "metadata": {},
   "source": [
    " # LeetCode 268: \"Missing Number\"."
   ]
  },
  {
   "cell_type": "code",
   "execution_count": 38,
   "metadata": {},
   "outputs": [
    {
     "data": {
      "text/plain": [
       "'\\n3)\\tGiven an array nums containing n distinct numbers in the range [0, n], return the only number in the range that is missing from the array.\\nExample 1:\\nInput: nums = [3,0,1]\\nOutput: 2\\nExplanation: n = 3 since there are 3 numbers, so all numbers are in the range [0,3]. 2 is the missing number in the range since it does not appear in nums.\\n\\nExample 2:\\nInput: nums = [0,1]\\nOutput: 2\\nExplanation: n = 2 since there are 2 numbers, so all numbers are in the range [0,2]. 2 is the missing number in the range since it does not appear in nums.\\n\\nExample 3:\\nInput: nums = [9,6,4,2,3,5,7,0,1]\\nOutput: 8\\nExplanation: n = 9 since there are 9 numbers, so all numbers are in the range [0,9]. 8 is the missing number in the range since it does not appear in nums.\\n'"
      ]
     },
     "execution_count": 38,
     "metadata": {},
     "output_type": "execute_result"
    }
   ],
   "source": [
    "'''\n",
    "3)\tGiven an array nums containing n distinct numbers in the range [0, n], return the only number in the range that is missing from the array.\n",
    "Example 1:\n",
    "Input: nums = [3,0,1]\n",
    "Output: 2\n",
    "Explanation: n = 3 since there are 3 numbers, so all numbers are in the range [0,3]. 2 is the missing number in the range since it does not appear in nums.\n",
    "\n",
    "Example 2:\n",
    "Input: nums = [0,1]\n",
    "Output: 2\n",
    "Explanation: n = 2 since there are 2 numbers, so all numbers are in the range [0,2]. 2 is the missing number in the range since it does not appear in nums.\n",
    "\n",
    "Example 3:\n",
    "Input: nums = [9,6,4,2,3,5,7,0,1]\n",
    "Output: 8\n",
    "Explanation: n = 9 since there are 9 numbers, so all numbers are in the range [0,9]. 8 is the missing number in the range since it does not appear in nums.\n",
    "'''"
   ]
  },
  {
   "cell_type": "code",
   "execution_count": 39,
   "metadata": {},
   "outputs": [
    {
     "name": "stdout",
     "output_type": "stream",
     "text": [
      "8\n"
     ]
    }
   ],
   "source": [
    "from typing import List\n",
    "class Solution:\n",
    "    def missingNumber(self, nums: List[int]) -> int:\n",
    "        nums.sort()\n",
    "        # ensure n is at the last index\n",
    "        if nums[-1] != len(nums):\n",
    "            return len(nums)\n",
    "        # ensure 0 is at the first index\n",
    "        elif nums[0] != 0:\n",
    "            return 0\n",
    "        \n",
    "        # otherwise, the missing number is in the range (0, n)\n",
    "        for i in range(1, len(nums)):\n",
    "            expected_num = nums[i - 1] + 1\n",
    "            if nums[i] != expected_num:\n",
    "                return expected_num\n",
    "nums = [9,6,4,2,3,5,7,0,1]\n",
    "solution = Solution()\n",
    "print(solution.missingNumber(nums))  "
   ]
  },
  {
   "cell_type": "markdown",
   "metadata": {},
   "source": [
    "# LAB 8"
   ]
  },
  {
   "cell_type": "code",
   "execution_count": 40,
   "metadata": {},
   "outputs": [
    {
     "data": {
      "text/plain": [
       "'Tasks:\\n1)\\tWrite python implementations on Merge Sort & Quick Sort\\n'"
      ]
     },
     "execution_count": 40,
     "metadata": {},
     "output_type": "execute_result"
    }
   ],
   "source": [
    "'''Tasks:\n",
    "1)\tWrite python implementations on Merge Sort & Quick Sort\n",
    "'''"
   ]
  },
  {
   "cell_type": "markdown",
   "metadata": {},
   "source": [
    "# 1.Merge Sort"
   ]
  },
  {
   "cell_type": "code",
   "execution_count": 41,
   "metadata": {},
   "outputs": [
    {
     "name": "stdout",
     "output_type": "stream",
     "text": [
      "unsorted array [1, 3, 5, 2, 9, 4]\n",
      "sorted array [1, 2, 3, 4, 5, 9]\n"
     ]
    }
   ],
   "source": [
    "def mergesort(arr):\n",
    "    if len(arr) <= 1:\n",
    "        return\n",
    "    mid = len(arr) // 2 # [1,3,5,2,9,4] (6/2--- mid = 3)\n",
    "    left = arr[:mid] # 0-(mid-1) or 0-2 \n",
    "    right = arr[mid:] # 3-last tak\n",
    "    # left = [1,3,5]\n",
    "    # right = [2,9,4]\n",
    "    mergesort(left)\n",
    "    mergesort(right)\n",
    "    MergeTwosortList(arr, left, right)\n",
    "\n",
    "def MergeTwosortList(arr, left, right):\n",
    "    a = len(left)\n",
    "    b = len(right)\n",
    "    i = j = k = 0\n",
    "    \n",
    "    while i < a and j < b:\n",
    "        if left[i] < right[j]:\n",
    "            arr[k] = left[i]\n",
    "            i += 1\n",
    "        else:\n",
    "            arr[k] = right[j]\n",
    "            j += 1\n",
    "        k += 1\n",
    "    \n",
    "    while i < a:\n",
    "        arr[k] = left[i]\n",
    "        i += 1\n",
    "        k += 1\n",
    "    \n",
    "    while j < b:\n",
    "        arr[k] = right[j]\n",
    "        j += 1\n",
    "        k += 1\n",
    "\n",
    "arr = [1,3,5,2,9,4] \n",
    "print('unsorted array',arr)\n",
    "mergesort(arr)  # Sorting is done in place\n",
    "print('sorted array',arr)  # Print the sorted array"
   ]
  },
  {
   "cell_type": "markdown",
   "metadata": {},
   "source": [
    "# 2.Quick sort"
   ]
  },
  {
   "cell_type": "code",
   "execution_count": 42,
   "metadata": {},
   "outputs": [
    {
     "name": "stdout",
     "output_type": "stream",
     "text": [
      "Original Array: [11, 7, 8, 9, 1, 5]\n",
      "Sorted Array: [1, 5, 7, 8, 9, 11]\n"
     ]
    }
   ],
   "source": [
    "\n",
    "def QuickSort(arr, low, high):\n",
    "    if low < high:\n",
    "        pivot = partition(arr, low, high)\n",
    "        QuickSort(arr, low, pivot - 1)\n",
    "        QuickSort(arr, pivot + 1, high)\n",
    "\n",
    "def partition(arr, low, high):\n",
    "    pivot = arr[high] #pivot = 5 \n",
    "    i = low - 1 #i=1\n",
    "    for j in range(low, high):\n",
    "        if arr[j] < pivot:\n",
    "            i += 1 # i=0(index)\n",
    "            arr[i], arr[j] = arr[j], arr[i] #swapping\n",
    "            # 11  , 1      =  1     ,  11\n",
    "    i += 1\n",
    "    arr[i], arr[high] = arr[high], arr[i]\n",
    "    return i\n",
    "# [1, 7, 8, 9, 11, 5]\n",
    "    #  low            high\n",
    "arr = [11, 7, 8, 9, 1, 5]\n",
    "print(\"Original Array:\", arr)\n",
    "QuickSort(arr, 0, len(arr) - 1)\n",
    "print(\"Sorted Array:\", arr)"
   ]
  },
  {
   "cell_type": "markdown",
   "metadata": {},
   "source": [
    "# Relative rank  leetcode Question"
   ]
  },
  {
   "cell_type": "code",
   "execution_count": 43,
   "metadata": {},
   "outputs": [
    {
     "data": {
      "text/plain": [
       "'\\n2)\\tYou are given an integer array score of size n, where score[i] is the score of the ith athlete in a competition. All the scores are guaranteed to be unique.\\nThe athletes are placed based on their scores, where the 1st place athlete has the highest score, the 2nd place athlete has the 2nd highest score, and so on. The placement of each athlete determines their rank:\\n•\\tThe 1st place athlete\\'s rank is \"Gold Medal\".\\n•\\tThe 2nd place athlete\\'s rank is \"Silver Medal\".\\n•\\tThe 3rd place athlete\\'s rank is \"Bronze Medal\".\\n•\\tFor the 4th place to the nth place athlete, their rank is their placement number (i.e., the xth place athlete\\'s rank is \"x\").\\nReturn an array answer of size n where answer[i] is the rank of the ith athlete.\\n \\nExample 1:\\nInput: score = [5,4,3,2,1]\\nOutput: [\"Gold Medal\",\"Silver Medal\",\"Bronze Medal\",\"4\",\"5\"]\\nExplanation: The placements are [1st, 2nd, 3rd, 4th, 5th].\\n\\nExample 2:\\nInput: score = [10,3,8,9,4]\\nOutput: [\"Gold Medal\",\"5\",\"Bronze Medal\",\"Silver Medal\",\"4\"]\\nExplanation: The placements are [1st, 5th, 3rd, 2nd, 4th].\\n'"
      ]
     },
     "execution_count": 43,
     "metadata": {},
     "output_type": "execute_result"
    }
   ],
   "source": [
    "'''\n",
    "2)\tYou are given an integer array score of size n, where score[i] is the score of the ith athlete in a competition. All the scores are guaranteed to be unique.\n",
    "The athletes are placed based on their scores, where the 1st place athlete has the highest score, the 2nd place athlete has the 2nd highest score, and so on. The placement of each athlete determines their rank:\n",
    "•\tThe 1st place athlete's rank is \"Gold Medal\".\n",
    "•\tThe 2nd place athlete's rank is \"Silver Medal\".\n",
    "•\tThe 3rd place athlete's rank is \"Bronze Medal\".\n",
    "•\tFor the 4th place to the nth place athlete, their rank is their placement number (i.e., the xth place athlete's rank is \"x\").\n",
    "Return an array answer of size n where answer[i] is the rank of the ith athlete.\n",
    " \n",
    "Example 1:\n",
    "Input: score = [5,4,3,2,1]\n",
    "Output: [\"Gold Medal\",\"Silver Medal\",\"Bronze Medal\",\"4\",\"5\"]\n",
    "Explanation: The placements are [1st, 2nd, 3rd, 4th, 5th].\n",
    "\n",
    "Example 2:\n",
    "Input: score = [10,3,8,9,4]\n",
    "Output: [\"Gold Medal\",\"5\",\"Bronze Medal\",\"Silver Medal\",\"4\"]\n",
    "Explanation: The placements are [1st, 5th, 3rd, 2nd, 4th].\n",
    "'''"
   ]
  },
  {
   "cell_type": "code",
   "execution_count": 44,
   "metadata": {},
   "outputs": [
    {
     "data": {
      "text/plain": [
       "['Gold Medal', 'Silver Medal', 'Bronze Medal', '4', '5']"
      ]
     },
     "execution_count": 44,
     "metadata": {},
     "output_type": "execute_result"
    }
   ],
   "source": [
    "# Given scores of N athletes, find their relative ranks and the people with the top three highest scores, who will be awarded medals: \"Gold Medal\", \"Silver Medal\" and \"Bronze Medal\".\n",
    "def findrelativeRanks(score):\n",
    "    sorted_score = sorted(score, reverse=True)\n",
    "    rank_map = {}\n",
    "    for i, value in enumerate(sorted_score):\n",
    "        if i == 0:\n",
    "            rank_map[value] = \"Gold Medal\"\n",
    "        elif i == 1:\n",
    "            rank_map[value] = \"Silver Medal\"\n",
    "        elif i == 2:\n",
    "            rank_map[value] = \"Bronze Medal\"\n",
    "        else:\n",
    "            rank_map[value] = str(i+1)\n",
    "    result = []\n",
    "    for s in score:\n",
    "        result.append(rank_map[s])\n",
    "\n",
    "    return result\n",
    "score = [5,4,3,2,1]\n",
    "findrelativeRanks(score)"
   ]
  },
  {
   "cell_type": "markdown",
   "metadata": {},
   "source": [
    "# Valid anagram --- leetcode question"
   ]
  },
  {
   "cell_type": "code",
   "execution_count": 45,
   "metadata": {},
   "outputs": [
    {
     "data": {
      "text/plain": [
       "'\\n3)\\tGiven two strings s and t, return true if t is an anagram of s, and false otherwise.\\n \\nExample 1:\\nInput: s = \"anagram\", t = \"nagaram\"\\nOutput: true\\n\\nExample 2:\\nInput: s = \"rat\", t = \"car\"\\nOutput: false\\n'"
      ]
     },
     "execution_count": 45,
     "metadata": {},
     "output_type": "execute_result"
    }
   ],
   "source": [
    "'''\n",
    "3)\tGiven two strings s and t, return true if t is an anagram of s, and false otherwise.\n",
    " \n",
    "Example 1:\n",
    "Input: s = \"anagram\", t = \"nagaram\"\n",
    "Output: true\n",
    "\n",
    "Example 2:\n",
    "Input: s = \"rat\", t = \"car\"\n",
    "Output: false\n",
    "'''"
   ]
  },
  {
   "cell_type": "code",
   "execution_count": 46,
   "metadata": {},
   "outputs": [
    {
     "name": "stdout",
     "output_type": "stream",
     "text": [
      "True\n"
     ]
    }
   ],
   "source": [
    "from collections import Counter\n",
    "class Solution:\n",
    "    def isAnagram(self,s:str,t:str) -> bool:\n",
    "        if len(s) != len(t):\n",
    "            return False\n",
    "        s_dict = Counter(s)\n",
    "        t_dict = Counter(t)\n",
    "\n",
    "        return s_dict == t_dict\n",
    "    \n",
    "s1= Solution()\n",
    "print(s1.isAnagram(\"anagram\",\"nagaram\"))"
   ]
  },
  {
   "cell_type": "markdown",
   "metadata": {},
   "source": [
    "# Maximum gap --leetcode question"
   ]
  },
  {
   "cell_type": "code",
   "execution_count": 47,
   "metadata": {},
   "outputs": [
    {
     "data": {
      "text/plain": [
       "'\\n4)\\tGiven an integer array nums, return the maximum difference between two successive elements in its sorted form. If the array contains less than two elements, return 0.\\nYou must write an algorithm that runs in linear time and uses linear extra space.\\n \\nExample 1:\\nInput: nums = [3,6,9,1]\\nOutput: 3\\nExplanation: The sorted form of the array is [1,3,6,9], either (3,6) or (6,9) has the maximum difference 3.\\n\\nExample 2:\\nInput: nums = [10]\\nOutput: 0\\nExplanation: The array contains less than 2 elements, therefore return 0.\\n'"
      ]
     },
     "execution_count": 47,
     "metadata": {},
     "output_type": "execute_result"
    }
   ],
   "source": [
    "'''\n",
    "4)\tGiven an integer array nums, return the maximum difference between two successive elements in its sorted form. If the array contains less than two elements, return 0.\n",
    "You must write an algorithm that runs in linear time and uses linear extra space.\n",
    " \n",
    "Example 1:\n",
    "Input: nums = [3,6,9,1]\n",
    "Output: 3\n",
    "Explanation: The sorted form of the array is [1,3,6,9], either (3,6) or (6,9) has the maximum difference 3.\n",
    "\n",
    "Example 2:\n",
    "Input: nums = [10]\n",
    "Output: 0\n",
    "Explanation: The array contains less than 2 elements, therefore return 0.\n",
    "'''"
   ]
  },
  {
   "cell_type": "code",
   "execution_count": 48,
   "metadata": {},
   "outputs": [
    {
     "data": {
      "text/plain": [
       "3"
      ]
     },
     "execution_count": 48,
     "metadata": {},
     "output_type": "execute_result"
    }
   ],
   "source": [
    "def maximumGap(nums):\n",
    "        # sort the array\n",
    "        nums.sort()\n",
    "        # find the max gap\n",
    "        max_gap = 0\n",
    "        for i in range(1, len(nums)):\n",
    "            max_gap = max(nums[i] - nums[i-1], max_gap)\n",
    "        return max_gap\n",
    "\n",
    "maximumGap([3,6,9,1])"
   ]
  },
  {
   "cell_type": "markdown",
   "metadata": {},
   "source": [
    "# LAB 09"
   ]
  },
  {
   "cell_type": "code",
   "execution_count": 49,
   "metadata": {},
   "outputs": [
    {
     "data": {
      "text/plain": [
       "'Tasks:\\n1)\\tImplement a Python function for hashing with collision handling using chaining.\\n'"
      ]
     },
     "execution_count": 49,
     "metadata": {},
     "output_type": "execute_result"
    }
   ],
   "source": [
    "'''Tasks:\n",
    "1)\tImplement a Python function for hashing with collision handling using chaining.\n",
    "'''"
   ]
  },
  {
   "cell_type": "code",
   "execution_count": 50,
   "metadata": {},
   "outputs": [
    {
     "name": "stdout",
     "output_type": "stream",
     "text": [
      "Hash Table after insertions:\n",
      "Index 0: [['grape', 30]]\n",
      "Index 1: []\n",
      "Index 2: [['apple', 10], ['banana', 20]]\n",
      "Index 3: [['lemon', 50]]\n",
      "Index 4: [['orange', 40]]\n",
      "\n",
      "Retrieving values:\n",
      "apple: 10\n",
      "banana: 20\n",
      "grape: 30\n",
      "\n",
      "Removing 'banana':\n",
      "Index 0: [['grape', 30]]\n",
      "Index 1: []\n",
      "Index 2: [['apple', 10]]\n",
      "Index 3: [['lemon', 50]]\n",
      "Index 4: [['orange', 40]]\n"
     ]
    }
   ],
   "source": [
    "class HashTable:\n",
    "    def __init__(self, size):\n",
    "        self.size = size\n",
    "        self.table = [[] for _ in range(size)]  # Initialize the table with empty lists (chaining)\n",
    "\n",
    "    def hash_function(self, key):\n",
    "        return hash(key) % self.size  # Simple modulo-based hash function\n",
    "\n",
    "    def insert(self, key, value):\n",
    "        index = self.hash_function(key)\n",
    "        # Check if the key already exists, update it\n",
    "        for pair in self.table[index]:\n",
    "            if pair[0] == key:\n",
    "                pair[1] = value\n",
    "                return\n",
    "        # If key doesn't exist, append the new key-value pair\n",
    "        self.table[index].append([key, value])\n",
    "\n",
    "    def get(self, key):\n",
    "        index = self.hash_function(key)\n",
    "        for pair in self.table[index]:\n",
    "            if pair[0] == key:\n",
    "                return pair[1]\n",
    "        return None  # Key not found\n",
    "\n",
    "    def remove(self, key):\n",
    "        index = self.hash_function(key)\n",
    "        for i, pair in enumerate(self.table[index]):\n",
    "            if pair[0] == key:\n",
    "                del self.table[index][i]\n",
    "                return True\n",
    "        return False  # Key not found\n",
    "\n",
    "    def display(self):\n",
    "        for i, bucket in enumerate(self.table):\n",
    "            print(f\"Index {i}: {bucket}\")\n",
    "\n",
    "# Example Usage\n",
    "hash_table = HashTable(5)\n",
    "hash_table.insert(\"apple\", 10)\n",
    "hash_table.insert(\"banana\", 20)\n",
    "hash_table.insert(\"grape\", 30)\n",
    "hash_table.insert(\"orange\", 40)\n",
    "hash_table.insert(\"lemon\", 50)\n",
    "\n",
    "print(\"Hash Table after insertions:\")\n",
    "hash_table.display()\n",
    "\n",
    "print(\"\\nRetrieving values:\")\n",
    "print(\"apple:\", hash_table.get(\"apple\"))\n",
    "print(\"banana:\", hash_table.get(\"banana\"))\n",
    "print(\"grape:\", hash_table.get(\"grape\"))\n",
    "\n",
    "print(\"\\nRemoving 'banana':\")\n",
    "hash_table.remove(\"banana\")\n",
    "hash_table.display()\n"
   ]
  },
  {
   "cell_type": "markdown",
   "metadata": {},
   "source": [
    "# Isomorphic Strings --leetcode"
   ]
  },
  {
   "cell_type": "code",
   "execution_count": 51,
   "metadata": {},
   "outputs": [
    {
     "data": {
      "text/plain": [
       "'\\'\\n2)\\tGiven two strings s and t, determine if they are isomorphic.\\nTwo strings s and t are isomorphic if the characters in s can be replaced to get t.\\nAll occurrences of a character must be replaced with another character while preserving the order of characters. No two characters may map to the same character, but a character may map to itself.\\nExample 1:\\nInput: s = \"egg\", t = \"add\"\\nOutput: true\\nExplanation:\\nThe strings s and t can be made identical by:\\n•\\tMapping \\'e\\' to \\'a\\'.\\n•\\tMapping \\'g\\' to \\'d\\'.\\n\\nExample 2:\\nInput: s = \"foo\", t = \"bar\"\\nOutput: false\\nExplanation:\\nThe strings s and t can not be made identical as \\'o\\' needs to be mapped to both \\'a\\' and \\'r\\'.\\n\\nExample 3:\\nInput: s = \"paper\", t = \"title\"\\nOutput: true\\n'"
      ]
     },
     "execution_count": 51,
     "metadata": {},
     "output_type": "execute_result"
    }
   ],
   "source": [
    "''''\n",
    "2)\tGiven two strings s and t, determine if they are isomorphic.\n",
    "Two strings s and t are isomorphic if the characters in s can be replaced to get t.\n",
    "All occurrences of a character must be replaced with another character while preserving the order of characters. No two characters may map to the same character, but a character may map to itself.\n",
    "Example 1:\n",
    "Input: s = \"egg\", t = \"add\"\n",
    "Output: true\n",
    "Explanation:\n",
    "The strings s and t can be made identical by:\n",
    "•\tMapping 'e' to 'a'.\n",
    "•\tMapping 'g' to 'd'.\n",
    "\n",
    "Example 2:\n",
    "Input: s = \"foo\", t = \"bar\"\n",
    "Output: false\n",
    "Explanation:\n",
    "The strings s and t can not be made identical as 'o' needs to be mapped to both 'a' and 'r'.\n",
    "\n",
    "Example 3:\n",
    "Input: s = \"paper\", t = \"title\"\n",
    "Output: true\n",
    "'''"
   ]
  },
  {
   "cell_type": "code",
   "execution_count": 52,
   "metadata": {},
   "outputs": [
    {
     "name": "stdout",
     "output_type": "stream",
     "text": [
      "True\n",
      "False\n",
      "True\n"
     ]
    }
   ],
   "source": [
    "def isIsomorphicHelper(s: str, t: str) -> bool:\n",
    "    if len(s) != len(t):\n",
    "        return False\n",
    "\n",
    "    s_to_t = {}\n",
    "    t_to_s = {}\n",
    "\n",
    "    for char_s, char_t in zip(s, t):\n",
    "        # Check if the current s character is already mapped\n",
    "        if char_s in s_to_t:\n",
    "            if s_to_t[char_s] != char_t:\n",
    "                return False\n",
    "        else:\n",
    "            # Check if the current t character is already mapped by another s character\n",
    "            if char_t in t_to_s:\n",
    "                return False\n",
    "            # Create new mappings\n",
    "            s_to_t[char_s] = char_t\n",
    "            t_to_s[char_t] = char_s\n",
    "\n",
    "    return True\n",
    "# Main function to call helper\n",
    "def isIsomorphic(s: str, t: str) -> bool:\n",
    "    return isIsomorphicHelper(s, t)\n",
    "\n",
    "# Test cases\n",
    "print(isIsomorphic(\"egg\", \"add\"))  # Output: True\n",
    "print(isIsomorphic(\"foo\", \"bar\"))  # Output: False\n",
    "print(isIsomorphic(\"paper\", \"title\"))  # Output: True"
   ]
  },
  {
   "cell_type": "markdown",
   "metadata": {},
   "source": [
    "# LAB 10"
   ]
  },
  {
   "cell_type": "code",
   "execution_count": 53,
   "metadata": {},
   "outputs": [
    {
     "data": {
      "text/plain": [
       "'Tasks:\\nImplement Binary Search Trees (BSTs) in Python with Inorder Traversal, a function to add nodes, and a searching function.\\n'"
      ]
     },
     "execution_count": 53,
     "metadata": {},
     "output_type": "execute_result"
    }
   ],
   "source": [
    "'''Tasks:\n",
    "Implement Binary Search Trees (BSTs) in Python with Inorder Traversal, a function to add nodes, and a searching function.\n",
    "'''"
   ]
  },
  {
   "cell_type": "code",
   "execution_count": 54,
   "metadata": {},
   "outputs": [
    {
     "name": "stdout",
     "output_type": "stream",
     "text": [
      "10\n",
      "None\n",
      "None\n"
     ]
    }
   ],
   "source": [
    "class Node:\n",
    "    def __init__(self, key):\n",
    "        self.key = key\n",
    "        self.left = None\n",
    "        self.right = None\n",
    "\n",
    "class BST:\n",
    "    def __init__(self):\n",
    "        self.root = None\n",
    "\n",
    "    def insert(self, key):\n",
    "        new_node = Node(key)\n",
    "        if self.root is None:\n",
    "            self.root = new_node\n",
    "            return\n",
    "        current = self.root\n",
    "        while True:\n",
    "            if key < current.key:\n",
    "                if current.left is None:\n",
    "                    current.left = new_node\n",
    "                    return\n",
    "                else:\n",
    "                    current = current.left\n",
    "            else:\n",
    "                if current.right is None:\n",
    "                    current.right = new_node\n",
    "                    return\n",
    "                else:\n",
    "                    current = current.right\n",
    "\n",
    "    def search(self, key):\n",
    "        current = self.root\n",
    "        while current is not None:\n",
    "            if key == current.key:\n",
    "                return True\n",
    "            elif key < current.key:\n",
    "                current = current.left\n",
    "            else:\n",
    "                current = current.right\n",
    "        return False\n",
    "\n",
    "    def inorder_traversal(self):\n",
    "        result = []\n",
    "        self._inorder_helper(self.root, result)\n",
    "        return result\n",
    "\n",
    "    def _inorder_helper(self, node, result):\n",
    "        if node is not None:\n",
    "            self._inorder_helper(node.left, result)\n",
    "            result.append(node.key)\n",
    "            self._inorder_helper(node.right, result)\n",
    "\n",
    "new_node = Node(10)  # Creates a node with key 10\n",
    "print(new_node.key)  # Output: 10\n",
    "print(new_node.left)  # Output: None\n",
    "print(new_node.right)  # Output: None\n",
    "root = Node(15)  # Root node\n",
    "root.left = Node(10)  # Left child of root\n",
    "root.right = Node(20)  # Right child of root\n",
    "\n",
    "root.left.left = Node(5)  # Left child of 10\n",
    "root.left.right = Node(12)  # Right child of 10\n"
   ]
  },
  {
   "cell_type": "code",
   "execution_count": null,
   "metadata": {},
   "outputs": [],
   "source": []
  }
 ],
 "metadata": {
  "kernelspec": {
   "display_name": "Python 3 (ipykernel)",
   "language": "python",
   "name": "python3"
  },
  "language_info": {
   "codemirror_mode": {
    "name": "ipython",
    "version": 3
   },
   "file_extension": ".py",
   "mimetype": "text/x-python",
   "name": "python",
   "nbconvert_exporter": "python",
   "pygments_lexer": "ipython3",
   "version": "3.13.1"
  }
 },
 "nbformat": 4,
 "nbformat_minor": 4
}
